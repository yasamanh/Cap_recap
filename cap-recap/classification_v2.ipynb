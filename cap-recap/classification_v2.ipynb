{
 "cells": [
  {
   "cell_type": "code",
   "execution_count": 7,
   "metadata": {},
   "outputs": [],
   "source": [
    "import numpy as np\n",
    "\n",
    "from sklearn.cross_validation import cross_val_score\n"
   ]
  },
  {
   "cell_type": "code",
   "execution_count": 97,
   "metadata": {},
   "outputs": [
    {
     "name": "stdout",
     "output_type": "stream",
     "text": [
      "2\n"
     ]
    }
   ],
   "source": [
    "import random\n",
    "print random.randint(1,3)"
   ]
  },
  {
   "cell_type": "code",
   "execution_count": 2,
   "metadata": {},
   "outputs": [
    {
     "name": "stdout",
     "output_type": "stream",
     "text": [
      "[75.0, 284.0, 367.0, 106.0, 578.0, 619.0, 280.0, 108.0, 339.0, 45.0, 154.0, 167.0, 166.0, 171.0, 285.0, 151.0, 364.0, 148.0, 33.0, 18.0, 190.0, 61.0, 135.0, 275.0, 252.0, 168.0, 75.0, 74.0, 176.0, 211.0, 29.0, 360.0, 453.0, 316.0, 581.0, 139.0, 90.0, 86.0, 113.0, 166.0, 22.0, 44.0, 105.0, 174.0, 164.0, 582.0, 205.0, 363.0, 189.0, 211.0]\n",
      "[2, 3, 3, 2, 3, 3, 3, 2, 3, 1, 3, 3, 3, 3, 3, 3, 3, 2, 1, 1, 3, 2, 2, 3, 3, 3, 2, 2, 3, 3, 1, 3, 3, 3, 3, 2, 2, 2, 2, 3, 1, 1, 2, 3, 3, 3, 3, 3, 3, 3]\n"
     ]
    }
   ],
   "source": [
    "f2 = open('/Users/ynh3/Documents/estR/rel_counts','rb')\n",
    "rel_judged = []\n",
    "rel_label = []\n",
    "for row in f2:\n",
    "    words = row.split()\n",
    "    rel_judged.append(float(words[3]))\n",
    "    \n",
    "    if float(words[3]) <= 50.0:\n",
    "        rel_label.append(1)\n",
    "    elif float(words[3]) > 50 and float(words[3]) <= 150:\n",
    "        rel_label.append(2)\n",
    "    else:\n",
    "        rel_label.append(3)\n",
    "        \n",
    "print rel_judged\n",
    "print rel_label"
   ]
  },
  {
   "cell_type": "code",
   "execution_count": 116,
   "metadata": {},
   "outputs": [
    {
     "data": {
      "text/plain": [
       "'print corpus[:20] \\nprint target[:20]\\n\\nprint train_corpus[:10]\\nprint train_label[:10]\\n\\nprint test_corpus[:10]\\nprint test_label[:10]'"
      ]
     },
     "execution_count": 116,
     "metadata": {},
     "output_type": "execute_result"
    }
   ],
   "source": [
    "corpus=[]\n",
    "target = []\n",
    "\n",
    "train_corpus=[]\n",
    "train_label=[]\n",
    "test_corpus=[]\n",
    "test_label=[]\n",
    "\n",
    "#target_counter = 0\n",
    "temp=[]\n",
    "\n",
    "\n",
    "#for traces of each system\n",
    "for i in range(0,100):\n",
    "    \n",
    "    f = open('/Users/ynh3/Documents/estR/traces/multi35/trace-'+ str(i),'rb')\n",
    "    #f_output = open('/Users/alinamazi/Documents/estR/estimates/ML/classification/test-'+ str(i), 'w')\n",
    "    n=5\n",
    "    \n",
    "    next(f)\n",
    "    count = 51\n",
    "    \n",
    "    for row in f:\n",
    "        #initialization\n",
    "        prev_marked=[]\n",
    "        num_captured=[]\n",
    "        marked_caught=[]\n",
    "        new_marked=[]\n",
    "        \n",
    "        index = count - 51\n",
    "        \n",
    "        marked_sofar = 0\n",
    "        for j in range(0,n):\n",
    "            if j > 0: row = next(f)\n",
    "            line = row.strip()   \n",
    "            if j==0: system = line.partition(' ')[0]\n",
    "\n",
    "            line = line.partition(' ')[2]\n",
    "            total_rel_this_round = line.split(' ')[5]\n",
    "            new_rel_this_round = line.split(' ')[6]\n",
    "            rel_overlap_this = float(total_rel_this_round) - float(new_rel_this_round)\n",
    "            \n",
    "            prev_marked.append(marked_sofar)\n",
    "            num_captured.append(total_rel_this_round)\n",
    "            marked_caught.append(rel_overlap_this)\n",
    "            new_marked.append(float(new_rel_this_round))\n",
    "            \n",
    "            marked_sofar += float(total_rel_this_round) - float(rel_overlap_this)\n",
    "            \n",
    "            features = float(total_rel_this_round)#, float(new_rel_this_round) #, marked_sofar\n",
    "            temp=[]\n",
    "            temp.append(features)\n",
    "            corpus.append(temp)\n",
    "            target.append(rel_label[index])\n",
    "            '''if rel_judged[index] <= 50:\n",
    "                target.append(1)\n",
    "            elif rel_judged[index] > 50 and rel_judged[index] <= 150:\n",
    "                target.append(2)\n",
    "            else:\n",
    "                target.append(3)'''\n",
    "            \n",
    "            if count % 2 == 0:\n",
    "                test_corpus.append(temp)\n",
    "                #test_label.append(rel_label[index])\n",
    "                test_label.append(random.randint(1,3))\n",
    "            else:\n",
    "                train_corpus.append(temp)\n",
    "                train_label.append(rel_label[index])\n",
    "                #train_label.append(random.randint(1,3))\n",
    "        #print prev_marked\n",
    "        #print num_captured\n",
    "        #print marked_caught\n",
    "        #print new_marked\n",
    "        ##AER_arr.append(AER(N,float(rel_judged[index]))) \n",
    "        #lines.append('{} {} {} {}\\n'.format(system, count, N, rel_judged[index]))\n",
    "        count = count +1\n",
    "        if count > 100: \n",
    "             count = 51\n",
    "'''print corpus[:20] \n",
    "print target[:20]\n",
    "\n",
    "print train_corpus[:10]\n",
    "print train_label[:10]\n",
    "\n",
    "print test_corpus[:10]\n",
    "print test_label[:10]'''"
   ]
  },
  {
   "cell_type": "code",
   "execution_count": 100,
   "metadata": {},
   "outputs": [
    {
     "data": {
      "text/plain": [
       "[[19.0], [12.0], [17.0], [22.0], [9.0], [24.0], [22.0], [2.0], [1.0], [29.0]]"
      ]
     },
     "execution_count": 100,
     "metadata": {},
     "output_type": "execute_result"
    }
   ],
   "source": [
    "train_corpus[:10]"
   ]
  },
  {
   "cell_type": "code",
   "execution_count": 117,
   "metadata": {},
   "outputs": [
    {
     "data": {
      "text/plain": [
       "0.33483333333333332"
      ]
     },
     "execution_count": 117,
     "metadata": {},
     "output_type": "execute_result"
    }
   ],
   "source": [
    "from sklearn import tree\n",
    "cl_tree = tree.DecisionTreeClassifier()\n",
    "cl_tree = cl_tree.fit(train_corpus, train_label)\n",
    "#returns mean accuracy\n",
    "cl_tree.score(test_corpus, test_label)"
   ]
  },
  {
   "cell_type": "code",
   "execution_count": 8,
   "metadata": {},
   "outputs": [
    {
     "name": "stdout",
     "output_type": "stream",
     "text": [
      "Accuracy: 0.62 (+/- 0.00)\n"
     ]
    }
   ],
   "source": [
    "clf = tree.DecisionTreeClassifier(random_state=0)\n",
    "scores = cross_val_score(clf, corpus, target, cv=10)\n",
    "print(\"Accuracy: %0.2f (+/- %0.2f)\" % (scores.mean(), scores.std() * 2))"
   ]
  },
  {
   "cell_type": "code",
   "execution_count": 9,
   "metadata": {},
   "outputs": [
    {
     "data": {
      "text/plain": [
       "54000"
      ]
     },
     "execution_count": 9,
     "metadata": {},
     "output_type": "execute_result"
    }
   ],
   "source": [
    "sum(i == 1 for i in target)"
   ]
  },
  {
   "cell_type": "code",
   "execution_count": 52,
   "metadata": {},
   "outputs": [
    {
     "data": {
      "text/plain": [
       "1170"
      ]
     },
     "execution_count": 52,
     "metadata": {},
     "output_type": "execute_result"
    }
   ],
   "source": [
    "sum(i ==2 for i in target)"
   ]
  },
  {
   "cell_type": "code",
   "execution_count": 10,
   "metadata": {},
   "outputs": [
    {
     "data": {
      "text/plain": [
       "2790"
      ]
     },
     "execution_count": 10,
     "metadata": {},
     "output_type": "execute_result"
    }
   ],
   "source": [
    "sum(i == 3 for i in target)"
   ]
  },
  {
   "cell_type": "code",
   "execution_count": 110,
   "metadata": {},
   "outputs": [
    {
     "data": {
      "text/plain": [
       "0.33346666666666669"
      ]
     },
     "execution_count": 110,
     "metadata": {},
     "output_type": "execute_result"
    }
   ],
   "source": [
    "from sklearn.neighbors import KNeighborsClassifier\n",
    "neigh = KNeighborsClassifier()\n",
    "cl_kn = neigh.fit(train_corpus, train_label)\n",
    "cl_kn.score(test_corpus, test_label)"
   ]
  },
  {
   "cell_type": "code",
   "execution_count": 11,
   "metadata": {},
   "outputs": [
    {
     "name": "stdout",
     "output_type": "stream",
     "text": [
      "Accuracy: 0.55 (+/- 0.07)\n"
     ]
    }
   ],
   "source": [
    "scores = cross_val_score(cl_kn, corpus, target, cv=2)\n",
    "print(\"Accuracy: %0.2f (+/- %0.2f)\" % (scores.mean(), scores.std() * 2))"
   ]
  },
  {
   "cell_type": "code",
   "execution_count": 118,
   "metadata": {},
   "outputs": [
    {
     "data": {
      "text/plain": [
       "0.33483333333333332"
      ]
     },
     "execution_count": 118,
     "metadata": {},
     "output_type": "execute_result"
    }
   ],
   "source": [
    "from sklearn.naive_bayes import GaussianNB\n",
    "cl_nb = GaussianNB()\n",
    "cl_nb.fit(train_corpus, train_label)\n",
    "cl_nb.score(test_corpus, test_label)"
   ]
  },
  {
   "cell_type": "code",
   "execution_count": 81,
   "metadata": {},
   "outputs": [
    {
     "name": "stdout",
     "output_type": "stream",
     "text": [
      "Accuracy: 0.62 (+/- 0.00)\n"
     ]
    }
   ],
   "source": [
    "scores = cross_val_score(cl_nb, corpus, target, cv=2)\n",
    "print(\"Accuracy: %0.2f (+/- %0.2f)\" % (scores.mean(), scores.std() * 2))"
   ]
  },
  {
   "cell_type": "code",
   "execution_count": 119,
   "metadata": {},
   "outputs": [
    {
     "data": {
      "text/plain": [
       "0.33483333333333332"
      ]
     },
     "execution_count": 119,
     "metadata": {},
     "output_type": "execute_result"
    }
   ],
   "source": [
    "from sklearn.ensemble import AdaBoostClassifier\n",
    "\n",
    "cl_ada = AdaBoostClassifier(n_estimators=100)\n",
    "cl_ada.fit(train_corpus, train_label)\n",
    "cl_ada.score(test_corpus, test_label)\n",
    "#scores = cross_val_score(cl_ada, corpus, target)\n",
    "#scores.mean()"
   ]
  },
  {
   "cell_type": "code",
   "execution_count": null,
   "metadata": {},
   "outputs": [],
   "source": [
    "from sklearn.svm import SVC\n",
    "cl_svm = SVC()\n",
    "cl_svm.fit(train_corpus, train_label)\n",
    "cl_svm.score(test_corpus, test_label)"
   ]
  },
  {
   "cell_type": "code",
   "execution_count": 42,
   "metadata": {},
   "outputs": [
    {
     "name": "stdout",
     "output_type": "stream",
     "text": [
      "Accuracy: 0.62 (+/- 0.01)\n"
     ]
    }
   ],
   "source": [
    "scores = cross_val_score(cl_svm, corpus, target, cv=10)\n",
    "print(\"Accuracy: %0.2f (+/- %0.2f)\" % (scores.mean(), scores.std() * 2))"
   ]
  },
  {
   "cell_type": "code",
   "execution_count": 113,
   "metadata": {},
   "outputs": [
    {
     "data": {
      "text/plain": [
       "0.33593333333333331"
      ]
     },
     "execution_count": 113,
     "metadata": {},
     "output_type": "execute_result"
    }
   ],
   "source": [
    "from sklearn.ensemble import RandomForestClassifier\n",
    "cl_ranf = RandomForestClassifier()\n",
    "cl_ranf.fit(train_corpus, train_label)\n",
    "cl_ranf.score(test_corpus, test_label)"
   ]
  },
  {
   "cell_type": "code",
   "execution_count": 25,
   "metadata": {},
   "outputs": [
    {
     "name": "stdout",
     "output_type": "stream",
     "text": [
      "Accuracy: 0.62 (+/- 0.00)\n"
     ]
    }
   ],
   "source": [
    "scores = cross_val_score(cl_ranf, corpus, target, cv=2)\n",
    "print(\"Accuracy: %0.2f (+/- %0.2f)\" % (scores.mean(), scores.std() * 2))"
   ]
  },
  {
   "cell_type": "code",
   "execution_count": 121,
   "metadata": {},
   "outputs": [
    {
     "data": {
      "text/plain": [
       "0.33483333333333332"
      ]
     },
     "execution_count": 121,
     "metadata": {},
     "output_type": "execute_result"
    }
   ],
   "source": [
    "from sklearn.naive_bayes import MultinomialNB\n",
    "cl_mnnb = MultinomialNB()\n",
    "cl_mnnb.fit(train_corpus, train_label)\n",
    "cl_mnnb.score(test_corpus, test_label)"
   ]
  },
  {
   "cell_type": "code",
   "execution_count": 120,
   "metadata": {},
   "outputs": [
    {
     "data": {
      "text/plain": [
       "0.33483333333333332"
      ]
     },
     "execution_count": 120,
     "metadata": {},
     "output_type": "execute_result"
    }
   ],
   "source": [
    "from sklearn import linear_model\n",
    "cl_logreg = linear_model.LogisticRegression(C=1e5)\n",
    "\n",
    "# we create an instance of Neighbours Classifier and fit the data.\n",
    "cl_logreg.fit(train_corpus, train_label)\n",
    "cl_logreg.score(test_corpus, test_label)"
   ]
  },
  {
   "cell_type": "code",
   "execution_count": null,
   "metadata": {},
   "outputs": [],
   "source": []
  }
 ],
 "metadata": {
  "kernelspec": {
   "display_name": "Python 3",
   "language": "python",
   "name": "python3"
  },
  "language_info": {
   "codemirror_mode": {
    "name": "ipython",
    "version": 3
   },
   "file_extension": ".py",
   "mimetype": "text/x-python",
   "name": "python",
   "nbconvert_exporter": "python",
   "pygments_lexer": "ipython3",
   "version": "3.6.1"
  }
 },
 "nbformat": 4,
 "nbformat_minor": 1
}
