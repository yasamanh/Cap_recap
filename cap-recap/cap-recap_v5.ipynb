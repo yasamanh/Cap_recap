{
 "cells": [
  {
   "cell_type": "code",
   "execution_count": 1,
   "metadata": {},
   "outputs": [],
   "source": [
    "import numpy"
   ]
  },
  {
   "cell_type": "code",
   "execution_count": 2,
   "metadata": {},
   "outputs": [],
   "source": [
    "def truncate(f, n):\n",
    "    '''Truncates/pads a float f to n decimal places without rounding'''\n",
    "    s = '{}'.format(f)\n",
    "    if 'e' in s or 'E' in s:\n",
    "        return '{0:.{1}f}'.format(f, n)\n",
    "    i, p, d = s.partition('.')\n",
    "    return '.'.join([i, (d+'0'*n)[:n]])"
   ]
  },
  {
   "cell_type": "code",
   "execution_count": 3,
   "metadata": {},
   "outputs": [],
   "source": [
    "def capture_recapture(m_f, c_s, m_s):\n",
    "    if float(m_s)== 0.0: return 0\n",
    "    else:\n",
    "        N = float(m_f)*float(c_s)/float(m_s)\n",
    "        return float(truncate(N,0))"
   ]
  },
  {
   "cell_type": "code",
   "execution_count": 4,
   "metadata": {},
   "outputs": [
    {
     "data": {
      "text/plain": [
       "30.0"
      ]
     },
     "execution_count": 4,
     "metadata": {},
     "output_type": "execute_result"
    }
   ],
   "source": [
    "capture_recapture(10,15,5)"
   ]
  },
  {
   "cell_type": "code",
   "execution_count": 70,
   "metadata": {},
   "outputs": [],
   "source": [
    "def capture_recapture_chapman(m_f, c_s, m_s):\n",
    "    N = (float(m_f)+1)*(float(c_s)+1)/(float(m_s)+1) - 1\n",
    "    #print \"EstR: \",float(truncate(N,0))\n",
    "    #return float(truncate(N,0))\n",
    "    print N"
   ]
  },
  {
   "cell_type": "code",
   "execution_count": 71,
   "metadata": {},
   "outputs": [
    {
     "name": "stdout",
     "output_type": "stream",
     "text": [
      "0.0\n"
     ]
    }
   ],
   "source": [
    "capture_recapture_chapman(0,2,2)"
   ]
  },
  {
   "cell_type": "code",
   "execution_count": 68,
   "metadata": {},
   "outputs": [],
   "source": [
    "#def capture_recapture_Schnabel_index(n_iterations, total_num_prev_marked, num_cought_iter_i, num_marked_prev_iter_i)\n",
    "def capture_recapture_schnabel_index_iteration(num_itr, prev_marked, num_captured, marked_caught):\n",
    "    a = 0\n",
    "    b = 0\n",
    "    for i in range(0,num_itr):\n",
    "        a += float(prev_marked[i])*float(num_captured[i])\n",
    "        \n",
    "    for j in range(0,num_itr):\n",
    "        b += float(marked_caught[j])\n",
    "         \n",
    "    if b== 0.0: return prev_marked[num_itr-1]\n",
    "    #if b== 0.0: return 0.0\n",
    "\n",
    "    else:\n",
    "        N = float(a/b)\n",
    "        #return float(truncate(N,0))\n",
    "        return N"
   ]
  },
  {
   "cell_type": "code",
   "execution_count": 5,
   "metadata": {},
   "outputs": [
    {
     "name": "stdout",
     "output_type": "stream",
     "text": [
      "658.75\n"
     ]
    }
   ],
   "source": [
    "prev_marked=[0,100,170]\n",
    "num_captured=[100,85,105]\n",
    "marked_caught=[0,15,25]\n",
    "n=3\n",
    "print capture_recapture_schnabel_index_iteration(n, prev_marked, num_captured, marked_caught)"
   ]
  },
  {
   "cell_type": "code",
   "execution_count": 72,
   "metadata": {},
   "outputs": [
    {
     "data": {
      "text/plain": [
       "str"
      ]
     },
     "execution_count": 72,
     "metadata": {},
     "output_type": "execute_result"
    }
   ],
   "source": [
    "type(N)"
   ]
  },
  {
   "cell_type": "code",
   "execution_count": 33,
   "metadata": {},
   "outputs": [
    {
     "name": "stdout",
     "output_type": "stream",
     "text": [
      "39.8447802198\n"
     ]
    }
   ],
   "source": [
    "prev_marked=[0,27,39]\n",
    "num_captured=[27,38,39]\n",
    "marked_caught=[0,26,38]\n",
    "n=3\n",
    "print capture_recapture_schnabel_index_iteration(n, prev_marked, num_captured, marked_caught)"
   ]
  },
  {
   "cell_type": "code",
   "execution_count": 25,
   "metadata": {},
   "outputs": [
    {
     "name": "stdout",
     "output_type": "stream",
     "text": [
      "35.0\n"
     ]
    }
   ],
   "source": [
    "prev_marked=[0,24,35]\n",
    "num_captured=[24,35,34]\n",
    "marked_caught=[0,24,34]\n",
    "n=3\n",
    "print capture_recapture_schnabel_index_iteration(n, prev_marked, num_captured, marked_caught)"
   ]
  },
  {
   "cell_type": "code",
   "execution_count": 26,
   "metadata": {},
   "outputs": [
    {
     "name": "stdout",
     "output_type": "stream",
     "text": [
      "35\n"
     ]
    }
   ],
   "source": [
    "prev_marked=[0,24,35]\n",
    "num_captured=[24,35,34]\n",
    "marked_caught=[0,0,0]\n",
    "n=3\n",
    "print capture_recapture_schnabel_index_iteration(n, prev_marked, num_captured, marked_caught)"
   ]
  },
  {
   "cell_type": "code",
   "execution_count": 43,
   "metadata": {},
   "outputs": [],
   "source": [
    "#Schumacher-Eschmeyer Method\n",
    "def capture_recapture_capture_history_iteration(num_itr, prev_marked, num_captured, marked_caught):\n",
    "    a = 0\n",
    "    b = 0\n",
    "    for i in range(0,num_itr):\n",
    "        a += float(prev_marked[i])*float(prev_marked[i])*float(num_captured[i]) \n",
    "        \n",
    "    for j in range(0,num_itr):\n",
    "        b += float(marked_caught[j])*float(prev_marked[j])\n",
    "    \n",
    "    if a== 0.0: return num_captured[num_itr-1]\n",
    "    #elif b== 0.0: return prev_marked[num_itr-1]\n",
    "    else:\n",
    "        N = float(a/(b+1))\n",
    "        #return float(truncate(N,0))\n",
    "        return N"
   ]
  },
  {
   "cell_type": "code",
   "execution_count": 63,
   "metadata": {},
   "outputs": [
    {
     "name": "stdout",
     "output_type": "stream",
     "text": [
      "249.117647059\n"
     ]
    }
   ],
   "source": [
    "prev_marked=[0,10,19,28,36]\n",
    "num_captured=[10,10,10,10,10]\n",
    "marked_caught=[0,1,1,0,2]\n",
    "n=5\n",
    "print capture_recapture_capture_history_iteration(n, prev_marked, num_captured, marked_caught)"
   ]
  },
  {
   "cell_type": "code",
   "execution_count": 48,
   "metadata": {},
   "outputs": [
    {
     "name": "stdout",
     "output_type": "stream",
     "text": [
      "2\n"
     ]
    }
   ],
   "source": [
    "#IN7a 74 0  35 0 0 0 35\n",
    "#IN7a 74 1  68 0 0 0 33\n",
    "#IN7a 74 2  95 2 2 2 25\n",
    "prev_marked=[0,0,0]\n",
    "num_captured=[0,0,2]\n",
    "marked_caught=[0,0,0]\n",
    "n = 3\n",
    "#capture_recapture_schnabel_index_iteration\n",
    "print capture_recapture_capture_history_iteration(n, prev_marked, num_captured, marked_caught)"
   ]
  },
  {
   "cell_type": "code",
   "execution_count": 62,
   "metadata": {},
   "outputs": [
    {
     "name": "stdout",
     "output_type": "stream",
     "text": [
      "2.4\n"
     ]
    }
   ],
   "source": [
    "#IN7a 59 0  35 2 2 2 33\n",
    "#IN7a 59 1  57 3 3 1 21\n",
    "#IN7a 59 2  92 3 0 0 35\n",
    "prev_marked=[0,2,3]\n",
    "num_captured=[2,3,0]\n",
    "marked_caught=[0,2,0]\n",
    "n = 3\n",
    "print capture_recapture_capture_history_iteration(n, prev_marked, num_captured, marked_caught)"
   ]
  },
  {
   "cell_type": "code",
   "execution_count": 58,
   "metadata": {},
   "outputs": [
    {
     "name": "stdout",
     "output_type": "stream",
     "text": [
      "1\n"
     ]
    }
   ],
   "source": [
    "#IN7a 67 0  35 1 1 1 34\n",
    "#IN7a 67 1  70 1 0 0 35\n",
    "#IN7a 67 2  102 1 0 0 32\n",
    "\n",
    "prev_marked=[0,1,1]\n",
    "num_captured=[1,0,0]\n",
    "marked_caught=[0,0,0]\n",
    "n = 3\n",
    "print capture_recapture_schnabel_index_iteration(n, prev_marked, num_captured, marked_caught)"
   ]
  },
  {
   "cell_type": "code",
   "execution_count": 83,
   "metadata": {},
   "outputs": [],
   "source": [
    "def AER(N,Actual_N):\n",
    "    aer = float(abs(N - Actual_N))/Actual_N\n",
    "    return float(truncate(aer,2))"
   ]
  },
  {
   "cell_type": "code",
   "execution_count": 85,
   "metadata": {},
   "outputs": [
    {
     "data": {
      "text/plain": [
       "0.8"
      ]
     },
     "execution_count": 85,
     "metadata": {},
     "output_type": "execute_result"
    }
   ],
   "source": [
    "AER(20,100)"
   ]
  },
  {
   "cell_type": "code",
   "execution_count": 9,
   "metadata": {},
   "outputs": [
    {
     "name": "stdout",
     "output_type": "stream",
     "text": [
      "[75.0, 284.0, 367.0, 106.0, 578.0, 619.0, 280.0, 108.0, 339.0, 45.0, 154.0, 167.0, 166.0, 171.0, 285.0, 151.0, 364.0, 148.0, 33.0, 18.0, 190.0, 61.0, 135.0, 275.0, 252.0, 168.0, 75.0, 74.0, 176.0, 211.0, 29.0, 360.0, 453.0, 316.0, 581.0, 139.0, 90.0, 86.0, 113.0, 166.0, 22.0, 44.0, 105.0, 174.0, 164.0, 582.0, 205.0, 363.0, 189.0, 211.0]\n"
     ]
    }
   ],
   "source": [
    "f2 = open('/Users/ynh3/Documents/estR/rel_counts','rb')\n",
    "rel_judged = []\n",
    "for row in f2:\n",
    "    words = row.split()  \n",
    "    rel_judged.append(float(words[3]))\n",
    "print rel_judged"
   ]
  },
  {
   "cell_type": "code",
   "execution_count": 82,
   "metadata": {},
   "outputs": [
    {
     "data": {
      "text/plain": [
       "12"
      ]
     },
     "execution_count": 82,
     "metadata": {},
     "output_type": "execute_result"
    }
   ],
   "source": [
    "sum(i <= 100 for i in rel_judged)"
   ]
  },
  {
   "cell_type": "code",
   "execution_count": 81,
   "metadata": {},
   "outputs": [
    {
     "data": {
      "text/plain": [
       "19"
      ]
     },
     "execution_count": 81,
     "metadata": {},
     "output_type": "execute_result"
    }
   ],
   "source": [
    "sum(i > 100 and i <= 200 for i in rel_judged)"
   ]
  },
  {
   "cell_type": "code",
   "execution_count": 80,
   "metadata": {},
   "outputs": [
    {
     "data": {
      "text/plain": [
       "19"
      ]
     },
     "execution_count": 80,
     "metadata": {},
     "output_type": "execute_result"
    }
   ],
   "source": [
    "sum(i > 200 for i in rel_judged)"
   ]
  },
  {
   "cell_type": "code",
   "execution_count": 88,
   "metadata": {},
   "outputs": [
    {
     "name": "stdout",
     "output_type": "stream",
     "text": [
      "100000\n",
      "0.758777855791\n"
     ]
    }
   ],
   "source": [
    "AER_arr=[]\n",
    "boxplot_data=[]\n",
    "mean_aer_arr = []\n",
    "\n",
    "under_count = 0\n",
    "over_count = 0\n",
    "#for traces of each system\n",
    "for i in range(0,100):\n",
    "    \n",
    "    f = open('/Users/ynh3/Documents/estR/traces/multi35/trace-'+ str(i),'rb')\n",
    "    #f_output = open('/Users/alinamazi/Documents/estR/estimates/cap_recap_multi35/est-'+ str(i), 'w')\n",
    "    n=3\n",
    "    lines=[]\n",
    "    line = '# Trace for numq = 3 x = 1 y =20 trial ' + str(i) + '\\n'\n",
    "    lines.append(line)\n",
    "\n",
    "    next(f)\n",
    "    topic_num = 51\n",
    "    AER_sys_arr=[]\n",
    "\n",
    "    for row in f:\n",
    "        #initialization\n",
    "        prev_marked=[]\n",
    "        num_captured=[]\n",
    "        marked_caught=[]\n",
    "        \n",
    "        marked_sofar = 0\n",
    "        for j in range(0,n):\n",
    "            if j > 0: row = next(f)\n",
    "            line = row.strip()   \n",
    "            if j==0: system = line.partition(' ')[0]\n",
    "\n",
    "            line = line.partition(' ')[2]\n",
    "            total_rel_this_round = line.split(' ')[5]\n",
    "            new_rel_this_round = line.split(' ')[6]\n",
    "            rel_overlap_this = float(total_rel_this_round) - float(new_rel_this_round)\n",
    "            \n",
    "            prev_marked.append(marked_sofar)\n",
    "            num_captured.append(total_rel_this_round)\n",
    "            marked_caught.append(rel_overlap_this)\n",
    "            \n",
    "            marked_sofar += float(total_rel_this_round) - float(rel_overlap_this)\n",
    "            \n",
    "            #print prev_marked\n",
    "            #print num_captured\n",
    "            #print marked_caught\n",
    "\n",
    " \n",
    "        N = capture_recapture_schnabel_index_iteration(n, prev_marked, num_captured, marked_caught)\n",
    "        index = topic_num - 51\n",
    "         #lines.append('{} {} {} {}\\n'.format(system, count, N, rel_judged[index]))\n",
    "        aer = AER(float(N),float(rel_judged[index]))\n",
    "        if ( float(aer) > 0):\n",
    "            #print \"warning\", system, topic_num, N, float(rel_judged[index]), AER(N,float(rel_judged[index]))\n",
    "            over_count += 1\n",
    "        else:\n",
    "            under_count += 1\n",
    "\n",
    "        if topic_num not in bad_topics[:10]:\n",
    "            AER_sys_arr.append(aer) \n",
    "        AER_arr.append(aer)\n",
    "        \n",
    "        topic_num = topic_num +1\n",
    "        if topic_num > 100: \n",
    "            #print \"Mean of AER System \", system, \":\", numpy.mean(AER_sys_arr)\n",
    "            #print AER_arr\n",
    "            mean_aer_arr.append(numpy.mean(AER_sys_arr))\n",
    "            topic_num = 51\n",
    "            boxplot_data.append(AER_sys_arr)\n",
    "            #AER_sys_arr =[]\n",
    "print len(AER_arr)\n",
    "print numpy.mean(mean_aer_arr)\n",
    "    #f_output.writelines(lines)\n",
    "    #f_output.close()"
   ]
  },
  {
   "cell_type": "code",
   "execution_count": 82,
   "metadata": {},
   "outputs": [
    {
     "data": {
      "text/plain": [
       "0.010373164488751179"
      ]
     },
     "execution_count": 82,
     "metadata": {},
     "output_type": "execute_result"
    }
   ],
   "source": [
    "float(over_count)/float(under_count)"
   ]
  },
  {
   "cell_type": "code",
   "execution_count": 59,
   "metadata": {},
   "outputs": [],
   "source": [
    "import matplotlib.pyplot as plt\n",
    "plt.figure()\n",
    "#x = ['a','b',3,4]\n",
    "#x = ['IN7a', 'IN7e','IN7p','SUN','SUNl','Saba','Sabe','Sabm','UoMd','UoMl','hum4','humA','humB','humD','humI','humK','humV','ok9u']\n",
    "x = ['A', 'B', 'C', 'D', 'E', 'F', 'G', 'H', 'I', 'J', 'K', 'L', 'M', 'N', 'O', 'P', 'Q', 'R', 'S', 'T']\n",
    "y = [i for i in range(1,20)]\n",
    "plt.figure()\n",
    "plt.boxplot(boxplot_data)\n",
    "plt.xticks(y, x)\n",
    "plt.show()\n",
    "\n"
   ]
  },
  {
   "cell_type": "code",
   "execution_count": 24,
   "metadata": {},
   "outputs": [
    {
     "name": "stdout",
     "output_type": "stream",
     "text": [
      "new array [11.070000000000002, 14.36, 15.45, 8.149999999999999, 13.680000000000001, 15.779999999999996, 11.709999999999999, 9.28, 16.45, 13.339999999999998, 12.590000000000002, 14.559999999999997, 15.289999999999997, 12.49, 16.479999999999997, 13.959999999999999, 17.680000000000003, 13.770000000000001, 10.31, 3.5000000000000013, 14.440000000000001, 15.239999999999998, 12.870000000000001, 17.78, 16.18, 15.25, 12.6, 10.330000000000002, 12.229999999999999, 13.349999999999998, 11.639999999999997, 14.950000000000001, 17.099999999999994, 15.770000000000001, 15.390000000000004, 6.3, 15.520000000000001, 11.87, 16.37, 12.96, 16.080000000000002, 13.689999999999998, 15.349999999999998, 10.409999999999998, 15.880000000000004, 17.08, 16.22, 16.24, 13.849999999999998, 9.569999999999999]\n"
     ]
    }
   ],
   "source": [
    "AER_topic_arr = []\n",
    "for i in range(0,50):\n",
    "    AER_topic_arr.append(0)\n",
    "    \n",
    "for i in range(0,18):\n",
    "    for j in range(0,50):\n",
    "        k = i*50 + j\n",
    "        temp = AER_topic_arr[j]\n",
    "        AER_topic_arr[j] = temp + AER_arr[k]\n",
    "    #print AER_arr[k]\n",
    "print \"new array\", AER_topic_arr\n",
    "#sorted(enumerate(AER_topic_arr))"
   ]
  },
  {
   "cell_type": "code",
   "execution_count": 44,
   "metadata": {},
   "outputs": [
    {
     "name": "stdout",
     "output_type": "stream",
     "text": [
      "[74, 67, 83, 96, 65, 59, 89, 98, 97, 75, 91, 95, 56, 84, 87, 53, 85, 93, 63, 76, 72, 82, 62, 71, 52, 66, 99, 68, 92, 55, 80, 60, 90, 73, 77, 61, 64, 79, 88, 57, 81, 51, 94, 78, 69, 100, 58, 54, 86, 70]\n"
     ]
    }
   ],
   "source": [
    "bad_topics = [i[0]+51 for i in sorted(enumerate(AER_topic_arr), key=lambda x:x[1], reverse=True)]\n",
    "print bad_topics"
   ]
  },
  {
   "cell_type": "code",
   "execution_count": 88,
   "metadata": {},
   "outputs": [],
   "source": [
    "#for traces of 3 systems combined\n",
    "for i in range(0,100):\n",
    "    \n",
    "    f = open('/Users/ynh3/Documents/estR/traces/multi35/trace-'+ str(i),'rb')\n",
    "    f_output = open('/Users/ynh3/Documents/estR/estimates/cap_recap_multi35/est-'+ str(i), 'w')\n",
    "    n=3 #number of systems\n",
    "    lines=[]\n",
    "    line = '# Trace for system = 5 x = 1 y =35 trial ' + str(i) + '\\n'\n",
    "    lines.append(line)\n",
    "\n",
    "    next(f)\n",
    "    count = 51\n",
    "    AER_arr=[]\n",
    "\n",
    "    for row in f:\n",
    "        #initialization\n",
    "        prev_marked=[]\n",
    "        num_captured=[]\n",
    "        marked_caught=[]\n",
    "        \n",
    "        marked_sofar = 0\n",
    "        for j in range(0,n):\n",
    "            if j > 0: row = next(f)\n",
    "            line = row.strip()   \n",
    "            if j==0: system = line.partition(' ')[0]\n",
    "\n",
    "            line = line.partition(' ')[2]\n",
    "            total_rel_this_round = line.split(' ')[5]\n",
    "            new_rel_this_round = line.split(' ')[6]\n",
    "            rel_overlap_this = float(total_rel_this_round) - float(new_rel_this_round)\n",
    "            \n",
    "            prev_marked.append(marked_sofar)\n",
    "            num_captured.append(total_rel_this_round)\n",
    "            marked_caught.append(rel_overlap_this)\n",
    "            \n",
    "            marked_sofar += float(total_rel_this_round) - float(rel_overlap_this)\n",
    "            \n",
    "            #print prev_marked\n",
    "            #print num_captured\n",
    "            #print marked_caught\n",
    "\n",
    " \n",
    "        N = capture_recapture_schnabel_index_iteration(n, prev_marked, num_captured, marked_caught)\n",
    "        index = count - 51\n",
    "        ##AER_arr.append(AER(N,float(rel_judged[index]))) \n",
    "        lines.append('{} {} {}\\n'.format(system, count, N))\n",
    "        count = count +1\n",
    "        if count > 100: \n",
    "            #print \"Mean of AER System \", system, \":\", numpy.mean(AER_arr)\n",
    "            count = 51\n",
    "            AER_arr =[]\n",
    "    f_output.writelines(lines)\n",
    "    f_output.close()"
   ]
  },
  {
   "cell_type": "code",
   "execution_count": null,
   "metadata": {},
   "outputs": [],
   "source": [
    "prev_marked=[0,27,39]\n",
    "num_captured=[27,38,39]\n",
    "marked_caught=[0,26,38]"
   ]
  },
  {
   "cell_type": "code",
   "execution_count": null,
   "metadata": {},
   "outputs": [],
   "source": []
  }
 ],
 "metadata": {
  "kernelspec": {
   "display_name": "Python 3",
   "language": "python",
   "name": "python3"
  },
  "language_info": {
   "codemirror_mode": {
    "name": "ipython",
    "version": 3
   },
   "file_extension": ".py",
   "mimetype": "text/x-python",
   "name": "python",
   "nbconvert_exporter": "python",
   "pygments_lexer": "ipython3",
   "version": "3.6.1"
  }
 },
 "nbformat": 4,
 "nbformat_minor": 1
}
