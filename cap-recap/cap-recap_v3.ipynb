{
 "cells": [
  {
   "cell_type": "code",
   "execution_count": 1,
   "metadata": {},
   "outputs": [],
   "source": [
    "import numpy"
   ]
  },
  {
   "cell_type": "code",
   "execution_count": 2,
   "metadata": {},
   "outputs": [],
   "source": [
    "def truncate(f, n):\n",
    "    '''Truncates/pads a float f to n decimal places without rounding'''\n",
    "    s = '{}'.format(f)\n",
    "    if 'e' in s or 'E' in s:\n",
    "        return '{0:.{1}f}'.format(f, n)\n",
    "    i, p, d = s.partition('.')\n",
    "    return '.'.join([i, (d+'0'*n)[:n]])"
   ]
  },
  {
   "cell_type": "code",
   "execution_count": 2,
   "metadata": {},
   "outputs": [],
   "source": [
    "def capture_recapture(m_f, c_s, m_s):\n",
    "    if float(m_s)== 0.0: return 0\n",
    "    else:\n",
    "        N = float(m_f)*float(c_s)/float(m_s)\n",
    "        return float(truncate(N,0))"
   ]
  },
  {
   "cell_type": "code",
   "execution_count": 3,
   "metadata": {},
   "outputs": [
    {
     "data": {
      "text/plain": [
       "30.0"
      ]
     },
     "execution_count": 3,
     "metadata": {},
     "output_type": "execute_result"
    }
   ],
   "source": [
    "capture_recapture(10,15,5)"
   ]
  },
  {
   "cell_type": "code",
   "execution_count": 52,
   "metadata": {},
   "outputs": [],
   "source": [
    "def capture_recapture_chapman(m_f, c_s, m_s):\n",
    "    N = (float(m_f)+1)*(float(c_s)+1)/(float(m_s)+1) - 1\n",
    "    #print \"EstR: \",float(truncate(N,0))\n",
    "    #return float(truncate(N,0))\n",
    "    print N"
   ]
  },
  {
   "cell_type": "code",
   "execution_count": 53,
   "metadata": {},
   "outputs": [
    {
     "name": "stdout",
     "output_type": "stream",
     "text": [
      "0.0\n"
     ]
    }
   ],
   "source": [
    "capture_recapture_chapman(0,2,2)"
   ]
  },
  {
   "cell_type": "code",
   "execution_count": 3,
   "metadata": {},
   "outputs": [],
   "source": [
    "#def capture_recapture_Schnabel_index(n_iterations, total_num_prev_marked, num_cought_iter_i, num_marked_prev_iter_i)\n",
    "def capture_recapture_schnabel_index_iteration(num_itr, prev_marked, num_captured, marked_caught):\n",
    "    a = 0\n",
    "    b = 0\n",
    "    for i in range(0,num_itr):\n",
    "        a += float(prev_marked[i])*float(num_captured[i])\n",
    "        \n",
    "    for j in range(0,num_itr):\n",
    "        b += float(marked_caught[j])\n",
    "         \n",
    "    if b== 0.0: return prev_marked[num_itr-1]\n",
    "    #if b== 0.0: return 0.0\n",
    "\n",
    "    else:\n",
    "        N = float(a/b)\n",
    "        #return float(truncate(N,0))\n",
    "        return N"
   ]
  },
  {
   "cell_type": "code",
   "execution_count": 34,
   "metadata": {},
   "outputs": [
    {
     "name": "stdout",
     "output_type": "stream",
     "text": [
      "675.565217391\n"
     ]
    }
   ],
   "source": [
    "prev_marked=[0,100,170]\n",
    "num_captured=[100,85,105]\n",
    "marked_caught=[0,15,25]\n",
    "n=3\n",
    "print capture_recapture_schnabel_index_iteration(n, prev_marked, num_captured, marked_caught)"
   ]
  },
  {
   "cell_type": "code",
   "execution_count": 33,
   "metadata": {},
   "outputs": [
    {
     "name": "stdout",
     "output_type": "stream",
     "text": [
      "39.8447802198\n"
     ]
    }
   ],
   "source": [
    "prev_marked=[0,27,39]\n",
    "num_captured=[27,38,39]\n",
    "marked_caught=[0,26,38]\n",
    "n=3\n",
    "print capture_recapture_schnabel_index_iteration(n, prev_marked, num_captured, marked_caught)"
   ]
  },
  {
   "cell_type": "code",
   "execution_count": 25,
   "metadata": {},
   "outputs": [
    {
     "name": "stdout",
     "output_type": "stream",
     "text": [
      "35.0\n"
     ]
    }
   ],
   "source": [
    "prev_marked=[0,24,35]\n",
    "num_captured=[24,35,34]\n",
    "marked_caught=[0,24,34]\n",
    "n=3\n",
    "print capture_recapture_schnabel_index_iteration(n, prev_marked, num_captured, marked_caught)"
   ]
  },
  {
   "cell_type": "code",
   "execution_count": 26,
   "metadata": {},
   "outputs": [
    {
     "name": "stdout",
     "output_type": "stream",
     "text": [
      "35\n"
     ]
    }
   ],
   "source": [
    "prev_marked=[0,24,35]\n",
    "num_captured=[24,35,34]\n",
    "marked_caught=[0,0,0]\n",
    "n=3\n",
    "print capture_recapture_schnabel_index_iteration(n, prev_marked, num_captured, marked_caught)"
   ]
  },
  {
   "cell_type": "code",
   "execution_count": 46,
   "metadata": {},
   "outputs": [],
   "source": [
    "#Schumacher-Eschmeyer Method\n",
    "def capture_recapture_capture_history_iteration(num_itr, prev_marked, num_captured, marked_caught):\n",
    "    a = 0\n",
    "    b = 0\n",
    "    for i in range(0,num_itr):\n",
    "        a += float(prev_marked[i])*float(prev_marked[i])*float(num_captured[i]) \n",
    "        \n",
    "    for j in range(0,num_itr):\n",
    "        b += float(marked_caught[j])*float(prev_marked[j])\n",
    "    \n",
    "    if a== 0.0: return num_captured[num_itr-1]\n",
    "    elif b== 0.0: return prev_marked[num_itr-1]\n",
    "    else:\n",
    "        N = float(a/b)\n",
    "        #return float(truncate(N,0))\n",
    "        return N"
   ]
  },
  {
   "cell_type": "code",
   "execution_count": 47,
   "metadata": {},
   "outputs": [
    {
     "name": "stdout",
     "output_type": "stream",
     "text": [
      "251.584158416\n"
     ]
    }
   ],
   "source": [
    "prev_marked=[0,10,19,28,36]\n",
    "num_captured=[10,10,10,10,10]\n",
    "marked_caught=[0,1,1,0,2]\n",
    "n=5\n",
    "print capture_recapture_capture_history_iteration(n, prev_marked, num_captured, marked_caught)"
   ]
  },
  {
   "cell_type": "code",
   "execution_count": 48,
   "metadata": {},
   "outputs": [
    {
     "name": "stdout",
     "output_type": "stream",
     "text": [
      "2\n"
     ]
    }
   ],
   "source": [
    "#IN7a 74 0  35 0 0 0 35\n",
    "#IN7a 74 1  68 0 0 0 33\n",
    "#IN7a 74 2  95 2 2 2 25\n",
    "prev_marked=[0,0,0]\n",
    "num_captured=[0,0,2]\n",
    "marked_caught=[0,0,0]\n",
    "n = 3\n",
    "#capture_recapture_schnabel_index_iteration\n",
    "print capture_recapture_capture_history_iteration(n, prev_marked, num_captured, marked_caught)"
   ]
  },
  {
   "cell_type": "code",
   "execution_count": 56,
   "metadata": {},
   "outputs": [
    {
     "name": "stdout",
     "output_type": "stream",
     "text": [
      "3.0\n"
     ]
    }
   ],
   "source": [
    "#IN7a 59 0  35 2 2 2 33\n",
    "#IN7a 59 1  57 3 3 1 21\n",
    "#IN7a 59 2  92 3 0 0 35\n",
    "prev_marked=[0,2,3]\n",
    "num_captured=[2,3,0]\n",
    "marked_caught=[0,2,0]\n",
    "n = 3\n",
    "print capture_recapture_capture_history_iteration(n, prev_marked, num_captured, marked_caught)"
   ]
  },
  {
   "cell_type": "code",
   "execution_count": 58,
   "metadata": {},
   "outputs": [
    {
     "name": "stdout",
     "output_type": "stream",
     "text": [
      "1\n"
     ]
    }
   ],
   "source": [
    "#IN7a 67 0  35 1 1 1 34\n",
    "#IN7a 67 1  70 1 0 0 35\n",
    "#IN7a 67 2  102 1 0 0 32\n",
    "\n",
    "prev_marked=[0,1,1]\n",
    "num_captured=[1,0,0]\n",
    "marked_caught=[0,0,0]\n",
    "n = 3\n",
    "print capture_recapture_schnabel_index_iteration(n, prev_marked, num_captured, marked_caught)"
   ]
  },
  {
   "cell_type": "code",
   "execution_count": 7,
   "metadata": {},
   "outputs": [],
   "source": [
    "def AER(N,Actual_N):\n",
    "    aer = float(abs(N - Actual_N))/Actual_N\n",
    "    return float(truncate(aer,2))"
   ]
  },
  {
   "cell_type": "code",
   "execution_count": 8,
   "metadata": {},
   "outputs": [
    {
     "data": {
      "text/plain": [
       "0.33"
      ]
     },
     "execution_count": 8,
     "metadata": {},
     "output_type": "execute_result"
    }
   ],
   "source": [
    "AER(20,30)"
   ]
  },
  {
   "cell_type": "code",
   "execution_count": 67,
   "metadata": {},
   "outputs": [
    {
     "name": "stdout",
     "output_type": "stream",
     "text": [
      "[75.0, 284.0, 367.0, 106.0, 578.0, 619.0, 280.0, 108.0, 339.0, 45.0, 154.0, 167.0, 166.0, 171.0, 285.0, 151.0, 364.0, 148.0, 33.0, 18.0, 190.0, 61.0, 135.0, 275.0, 252.0, 168.0, 75.0, 74.0, 176.0, 211.0, 29.0, 360.0, 453.0, 316.0, 581.0, 139.0, 90.0, 86.0, 113.0, 166.0, 22.0, 44.0, 105.0, 174.0, 164.0, 582.0, 205.0, 363.0, 189.0, 211.0]\n"
     ]
    }
   ],
   "source": [
    "f2 = open('/Users/ynh3/Documents/estR/rel_counts','rb')\n",
    "rel_judged = []\n",
    "for row in f2:\n",
    "    words = row.split()  \n",
    "    rel_judged.append(float(words[3]))\n",
    "print rel_judged"
   ]
  },
  {
   "cell_type": "code",
   "execution_count": 82,
   "metadata": {},
   "outputs": [
    {
     "data": {
      "text/plain": [
       "12"
      ]
     },
     "execution_count": 82,
     "metadata": {},
     "output_type": "execute_result"
    }
   ],
   "source": [
    "sum(i <= 100 for i in rel_judged)"
   ]
  },
  {
   "cell_type": "code",
   "execution_count": 81,
   "metadata": {},
   "outputs": [
    {
     "data": {
      "text/plain": [
       "19"
      ]
     },
     "execution_count": 81,
     "metadata": {},
     "output_type": "execute_result"
    }
   ],
   "source": [
    "sum(i > 100 and i <= 200 for i in rel_judged)"
   ]
  },
  {
   "cell_type": "code",
   "execution_count": 80,
   "metadata": {},
   "outputs": [
    {
     "data": {
      "text/plain": [
       "19"
      ]
     },
     "execution_count": 80,
     "metadata": {},
     "output_type": "execute_result"
    }
   ],
   "source": [
    "sum(i > 200 for i in rel_judged)"
   ]
  },
  {
   "cell_type": "code",
   "execution_count": 11,
   "metadata": {},
   "outputs": [
    {
     "name": "stdout",
     "output_type": "stream",
     "text": [
      "system, topic num, estR, relevant_judged, AER(estR, rel_judged[count]))\n"
     ]
    },
    {
     "ename": "NameError",
     "evalue": "name 'capture_recapture_chapman' is not defined",
     "output_type": "error",
     "traceback": [
      "\u001b[0;31m---------------------------------------------------------------------------\u001b[0m\n\u001b[0;31mNameError\u001b[0m                                 Traceback (most recent call last)",
      "\u001b[0;32m<ipython-input-11-e15fc0006da6>\u001b[0m in \u001b[0;36m<module>\u001b[0;34m()\u001b[0m\n\u001b[1;32m     21\u001b[0m     \u001b[0mnew_rel_second_round\u001b[0m \u001b[0;34m=\u001b[0m \u001b[0mline\u001b[0m\u001b[0;34m.\u001b[0m\u001b[0msplit\u001b[0m\u001b[0;34m(\u001b[0m\u001b[0;34m' '\u001b[0m\u001b[0;34m)\u001b[0m\u001b[0;34m[\u001b[0m\u001b[0;36m6\u001b[0m\u001b[0;34m]\u001b[0m\u001b[0;34m\u001b[0m\u001b[0m\n\u001b[1;32m     22\u001b[0m     \u001b[0mrel_overlap\u001b[0m \u001b[0;34m=\u001b[0m \u001b[0mfloat\u001b[0m\u001b[0;34m(\u001b[0m\u001b[0mtotal_rel_second_round\u001b[0m\u001b[0;34m)\u001b[0m \u001b[0;34m-\u001b[0m \u001b[0mfloat\u001b[0m\u001b[0;34m(\u001b[0m\u001b[0mnew_rel_second_round\u001b[0m\u001b[0;34m)\u001b[0m\u001b[0;34m\u001b[0m\u001b[0m\n\u001b[0;32m---> 23\u001b[0;31m     \u001b[0mN\u001b[0m \u001b[0;34m=\u001b[0m \u001b[0mcapture_recapture_chapman\u001b[0m\u001b[0;34m(\u001b[0m\u001b[0mtotal_rel_first_round\u001b[0m\u001b[0;34m,\u001b[0m \u001b[0mtotal_rel_second_round\u001b[0m\u001b[0;34m,\u001b[0m \u001b[0mrel_overlap\u001b[0m\u001b[0;34m)\u001b[0m\u001b[0;34m\u001b[0m\u001b[0m\n\u001b[0m\u001b[1;32m     24\u001b[0m     \u001b[0mAER_arr\u001b[0m\u001b[0;34m.\u001b[0m\u001b[0mappend\u001b[0m\u001b[0;34m(\u001b[0m\u001b[0mAER\u001b[0m\u001b[0;34m(\u001b[0m\u001b[0mN\u001b[0m\u001b[0;34m,\u001b[0m\u001b[0mfloat\u001b[0m\u001b[0;34m(\u001b[0m\u001b[0mrel_judged\u001b[0m\u001b[0;34m[\u001b[0m\u001b[0mcount\u001b[0m\u001b[0;34m]\u001b[0m\u001b[0;34m)\u001b[0m\u001b[0;34m)\u001b[0m\u001b[0;34m)\u001b[0m\u001b[0;34m\u001b[0m\u001b[0m\n\u001b[1;32m     25\u001b[0m     \u001b[0;31m#print system, count, N, rel_judged[count], AER(N,float(rel_judged[count]))\u001b[0m\u001b[0;34m\u001b[0m\u001b[0;34m\u001b[0m\u001b[0m\n",
      "\u001b[0;31mNameError\u001b[0m: name 'capture_recapture_chapman' is not defined"
     ]
    }
   ],
   "source": [
    "f = open('/Users/ynh3/Documents/estR/trace.2q50docs','rb')\n",
    "next(f)\n",
    "next(f)\n",
    "count = 0\n",
    "AER_arr=[]\n",
    "\n",
    "#print header\n",
    "print \"system, topic num, estR, relevant_judged, AER(estR, rel_judged[count]))\"\n",
    "\n",
    "for row in f:\n",
    "    line = row.strip() \n",
    "    system = line.partition(' ')[0]\n",
    "    line = line.partition(' ')[2]\n",
    "    total_rel_first_round = line.split(' ')[5]\n",
    "    new_rel_first_round = line.split(' ')[6]\n",
    "    #print total_rel_first_round, new_rel_first_round\n",
    "    row = next(f)\n",
    "    line = row.strip()    \n",
    "    line = line.partition(' ')[2]\n",
    "    total_rel_second_round = line.split(' ')[5]\n",
    "    new_rel_second_round = line.split(' ')[6]\n",
    "    rel_overlap = float(total_rel_second_round) - float(new_rel_second_round)\n",
    "    N = capture_recapture_chapman(total_rel_first_round, total_rel_second_round, rel_overlap)\n",
    "    AER_arr.append(AER(N,float(rel_judged[count]))) \n",
    "    #print system, count, N, rel_judged[count], AER(N,float(rel_judged[count]))\n",
    "    #AER(N,float(rel_judged[count]))\n",
    "    count = count +1\n",
    "    if count > 49: \n",
    "        #print \"Mean of AER System \", system, \":\", numpy.mean(AER_arr)\n",
    "        count = 0\n",
    "        AER_arr =[]"
   ]
  },
  {
   "cell_type": "code",
   "execution_count": 90,
   "metadata": {},
   "outputs": [],
   "source": [
    "f = open('/Users/ynh3/Documents/estR/traces/q3docs35/trace-0','rb')\n",
    "f_output = open('/Users/ynh3/Documents/estR/estimates/est-0', 'w')\n",
    "\n",
    "next(f)\n",
    "#next(f)\n",
    "count = 51\n",
    "AER_arr=[]\n",
    "n=3\n",
    "lines=[]\n",
    "line = '# Trace for numq = 2 x = 1 y = 50 trial 0\\n'\n",
    "lines.append(line)\n",
    "\n",
    "#print header\n",
    "#print \"system, topic num, estR, relevant_judged, AER(estR, rel_judged[count]))\"\n",
    "\n",
    "for row in f:\n",
    "    #initialization\n",
    "    prev_marked=[]\n",
    "    num_captured=[]\n",
    "    marked_caught=[]\n",
    "\n",
    "    #reading from file\n",
    "    line = row.strip() \n",
    "    system = line.partition(' ')[0]\n",
    "    line = line.partition(' ')[2]\n",
    "    total_rel_first_round = line.split(' ')[5]\n",
    "    new_rel_first_round = line.split(' ')[6]\n",
    "    prev_marked.append(0)\n",
    "    num_captured.append(total_rel_first_round)\n",
    "    marked_caught.append(0)\n",
    "    \n",
    "    #print total_rel_first_round, new_rel_first_round\n",
    "    row = next(f)\n",
    "    line = row.strip()    \n",
    "    line = line.partition(' ')[2]\n",
    "    total_rel_second_round = line.split(' ')[5]\n",
    "    new_rel_second_round = line.split(' ')[6]\n",
    "    rel_overlap_second = float(total_rel_second_round) - float(new_rel_second_round)\n",
    "    prev_marked.append(total_rel_first_round)\n",
    "    num_captured.append(total_rel_second_round)\n",
    "    marked_caught.append(rel_overlap_second)\n",
    "    \n",
    "    #next row\n",
    "    row = next(f)\n",
    "    line = row.strip()    \n",
    "    line = line.partition(' ')[2]\n",
    "    total_rel_third_round = line.split(' ')[5]\n",
    "    new_rel_third_round = line.split(' ')[6]\n",
    "    rel_overlap_third = float(total_rel_third_round) - float(new_rel_third_round)\n",
    "    marked_before_third = float(total_rel_first_round) + float(total_rel_second_round) - float(rel_overlap_second)\n",
    "    prev_marked.append(marked_before_third)\n",
    "    num_captured.append(total_rel_third_round)\n",
    "    marked_caught.append(rel_overlap_third)\n",
    "    \n",
    "    ##print prev_marked\n",
    "    ##print num_captured\n",
    "    ##print marked_caught\n",
    "    N = capture_recapture_schnabel_index_iteration(n, prev_marked, num_captured, marked_caught)\n",
    "    ##N = capture_recapture_chapman(3, total_rel_first_round, total_rel_second_round, rel_overlap_second,)\n",
    "    index = count - 51\n",
    "    AER_arr.append(AER(N,float(rel_judged[index]))) \n",
    "    #print system, index, N, rel_judged[index], AER(N,float(rel_judged[index]))\n",
    "    #print system, count, N\n",
    "    lines.append('{} {} {}\\n'.format(system, count, N))\n",
    "    ##AER(N,float(rel_judged[count]))\n",
    "    count = count +1\n",
    "    if count > 100: \n",
    "        #print \"Mean of AER System \", system, \":\", numpy.mean(AER_arr)\n",
    "        count = 51\n",
    "        AER_arr =[]\n",
    "f_output.writelines(lines)\n",
    "f_output.close()"
   ]
  },
  {
   "cell_type": "code",
   "execution_count": 61,
   "metadata": {},
   "outputs": [],
   "source": [
    "#for traces of each system\n",
    "for i in range(0,1):\n",
    "    \n",
    "    f = open('/Users/ynh3/Documents/estR/traces/q3docs35/trace-'+ str(i),'rb')\n",
    "    f_output = open('/Users/ynh3/Documents/estR/estimates/cap_recap_q3docs35/test-'+ str(i), 'w')\n",
    "    n=3\n",
    "    lines=[]\n",
    "    line = '# Trace for numq = 5 x = 1 y =20 trial ' + str(i) + '\\n'\n",
    "    lines.append(line)\n",
    "\n",
    "    next(f)\n",
    "    count = 51\n",
    "    AER_arr=[]\n",
    "\n",
    "    for row in f:\n",
    "        #initialization\n",
    "        prev_marked=[]\n",
    "        num_captured=[]\n",
    "        marked_caught=[]\n",
    "        \n",
    "        marked_sofar = 0\n",
    "        for j in range(0,n):\n",
    "            if j > 0: row = next(f)\n",
    "            line = row.strip()   \n",
    "            if j==0: system = line.partition(' ')[0]\n",
    "\n",
    "            line = line.partition(' ')[2]\n",
    "            total_rel_this_round = line.split(' ')[5]\n",
    "            new_rel_this_round = line.split(' ')[6]\n",
    "            rel_overlap_this = float(total_rel_this_round) - float(new_rel_this_round)\n",
    "            \n",
    "            prev_marked.append(marked_sofar)\n",
    "            num_captured.append(total_rel_this_round)\n",
    "            marked_caught.append(rel_overlap_this)\n",
    "            \n",
    "            marked_sofar += float(total_rel_this_round) - float(rel_overlap_this)\n",
    "            \n",
    "            #print prev_marked\n",
    "            #print num_captured\n",
    "            #print marked_caught\n",
    "\n",
    " \n",
    "        N = capture_recapture_schnabel_index_iteration(n, prev_marked, num_captured, marked_caught)\n",
    "        index = count - 51\n",
    "        ##AER_arr.append(AER(N,float(rel_judged[index]))) \n",
    "        lines.append('{} {} {} {}\\n'.format(system, count, N, rel_judged[index]))\n",
    "        count = count +1\n",
    "        if count > 100: \n",
    "            #print \"Mean of AER System \", system, \":\", numpy.mean(AER_arr)\n",
    "            count = 51\n",
    "            AER_arr =[]\n",
    "    f_output.writelines(lines)\n",
    "    f_output.close()"
   ]
  },
  {
   "cell_type": "code",
   "execution_count": 88,
   "metadata": {},
   "outputs": [],
   "source": [
    "#for traces of 3 systems combined\n",
    "for i in range(0,100):\n",
    "    \n",
    "    f = open('/Users/ynh3/Documents/estR/traces/multi35/trace-'+ str(i),'rb')\n",
    "    f_output = open('/Users/ynh3/Documents/estR/estimates/cap_recap_multi35/est-'+ str(i), 'w')\n",
    "    n=3 #number of systems\n",
    "    lines=[]\n",
    "    line = '# Trace for system = 5 x = 1 y =35 trial ' + str(i) + '\\n'\n",
    "    lines.append(line)\n",
    "\n",
    "    next(f)\n",
    "    count = 51\n",
    "    AER_arr=[]\n",
    "\n",
    "    for row in f:\n",
    "        #initialization\n",
    "        prev_marked=[]\n",
    "        num_captured=[]\n",
    "        marked_caught=[]\n",
    "        \n",
    "        marked_sofar = 0\n",
    "        for j in range(0,n):\n",
    "            if j > 0: row = next(f)\n",
    "            line = row.strip()   \n",
    "            if j==0: system = line.partition(' ')[0]\n",
    "\n",
    "            line = line.partition(' ')[2]\n",
    "            total_rel_this_round = line.split(' ')[5]\n",
    "            new_rel_this_round = line.split(' ')[6]\n",
    "            rel_overlap_this = float(total_rel_this_round) - float(new_rel_this_round)\n",
    "            \n",
    "            prev_marked.append(marked_sofar)\n",
    "            num_captured.append(total_rel_this_round)\n",
    "            marked_caught.append(rel_overlap_this)\n",
    "            \n",
    "            marked_sofar += float(total_rel_this_round) - float(rel_overlap_this)\n",
    "            \n",
    "            #print prev_marked\n",
    "            #print num_captured\n",
    "            #print marked_caught\n",
    "\n",
    " \n",
    "        N = capture_recapture_schnabel_index_iteration(n, prev_marked, num_captured, marked_caught)\n",
    "        index = count - 51\n",
    "        ##AER_arr.append(AER(N,float(rel_judged[index]))) \n",
    "        lines.append('{} {} {}\\n'.format(system, count, N))\n",
    "        count = count +1\n",
    "        if count > 100: \n",
    "            #print \"Mean of AER System \", system, \":\", numpy.mean(AER_arr)\n",
    "            count = 51\n",
    "            AER_arr =[]\n",
    "    f_output.writelines(lines)\n",
    "    f_output.close()"
   ]
  },
  {
   "cell_type": "code",
   "execution_count": null,
   "metadata": {},
   "outputs": [],
   "source": [
    "prev_marked=[0,27,39]\n",
    "num_captured=[27,38,39]\n",
    "marked_caught=[0,26,38]"
   ]
  },
  {
   "cell_type": "code",
   "execution_count": null,
   "metadata": {},
   "outputs": [],
   "source": [
    "for i in range(0,100):\n",
    "    \n",
    "    f = open('/Users/ynh3/Documents/estR/traces/q3docs50/trace-'+ str(i),'rb')\n",
    "    f_output = open('/Users/ynh3/Documents/estR/estimates/cap_recap_q3docs50/est-'+ str(i), 'w')\n",
    "\n",
    "    next(f)\n",
    "    #next(f)\n",
    "    count = 51\n",
    "    AER_arr=[]\n",
    "    n=3\n",
    "    lines=[]\n",
    "    line = '# Trace for numq = 3 x = 1 y = 50 trial ' + str(i) + '\\n'\n",
    "    lines.append(line)\n",
    "\n",
    "    #print header\n",
    "    #print \"system, topic num, estR, relevant_judged, AER(estR, rel_judged[count]))\"\n",
    "\n",
    "    for row in f:\n",
    "        #initialization\n",
    "        prev_marked=[]\n",
    "        num_captured=[]\n",
    "        marked_caught=[]\n",
    "\n",
    "        #reading from file\n",
    "        line = row.strip() \n",
    "        system = line.partition(' ')[0]\n",
    "        line = line.partition(' ')[2]\n",
    "        total_rel_first_round = line.split(' ')[5]\n",
    "        new_rel_first_round = line.split(' ')[6]\n",
    "        prev_marked.append(0)\n",
    "        num_captured.append(total_rel_first_round)\n",
    "        marked_caught.append(0)\n",
    "\n",
    "        #print total_rel_first_round, new_rel_first_round\n",
    "        row = next(f)\n",
    "        line = row.strip()    \n",
    "        line = line.partition(' ')[2]\n",
    "        total_rel_second_round = line.split(' ')[5]\n",
    "        new_rel_second_round = line.split(' ')[6]\n",
    "        rel_overlap_second = float(total_rel_second_round) - float(new_rel_second_round)\n",
    "        prev_marked.append(total_rel_first_round)\n",
    "        num_captured.append(total_rel_second_round)\n",
    "        marked_caught.append(rel_overlap_second)\n",
    "\n",
    "        #next row\n",
    "        row = next(f)\n",
    "        line = row.strip()    \n",
    "        line = line.partition(' ')[2]\n",
    "        total_rel_third_round = line.split(' ')[5]\n",
    "        new_rel_third_round = line.split(' ')[6]\n",
    "        rel_overlap_third = float(total_rel_third_round) - float(new_rel_third_round)\n",
    "        marked_before_third = float(total_rel_first_round) + float(total_rel_second_round) - float(rel_overlap_second)\n",
    "        prev_marked.append(marked_before_third)\n",
    "        num_captured.append(total_rel_third_round)\n",
    "        marked_caught.append(rel_overlap_third)\n",
    "\n",
    "        ##print prev_marked\n",
    "        ##print num_captured\n",
    "        ##print marked_caught\n",
    "        N = capture_recapture_schnabel_index_iteration(n, prev_marked, num_captured, marked_caught)\n",
    "        ##N = capture_recapture_chapman(3, total_rel_first_round, total_rel_second_round, rel_overlap_second,)\n",
    "        index = count - 51\n",
    "        AER_arr.append(AER(N,float(rel_judged[index]))) \n",
    "        #print system, index, N, rel_judged[index], AER(N,float(rel_judged[index]))\n",
    "        #print system, count, N\n",
    "        lines.append('{} {} {}\\n'.format(system, count, N))\n",
    "        ##AER(N,float(rel_judged[count]))\n",
    "        count = count +1\n",
    "        if count > 100: \n",
    "            #print \"Mean of AER System \", system, \":\", numpy.mean(AER_arr)\n",
    "            count = 51\n",
    "            AER_arr =[]\n",
    "    f_output.writelines(lines)\n",
    "    f_output.close()"
   ]
  },
  {
   "cell_type": "code",
   "execution_count": null,
   "metadata": {},
   "outputs": [],
   "source": [
    "prev_marked=[0,100,170]\n",
    "num_captured=[100,85,105]\n",
    "marked_caught=[0,15,25]"
   ]
  },
  {
   "cell_type": "code",
   "execution_count": null,
   "metadata": {},
   "outputs": [],
   "source": [
    "#### TRY & ERROR TEST BEGINS"
   ]
  },
  {
   "cell_type": "code",
   "execution_count": 114,
   "metadata": {},
   "outputs": [
    {
     "data": {
      "text/plain": [
       "'2.34'"
      ]
     },
     "execution_count": 114,
     "metadata": {},
     "output_type": "execute_result"
    }
   ],
   "source": [
    "import numpy\n",
    ">>> a = [1.3, 2.4, 4.5]\n",
    ">>> numpy.mean(a)\n",
    "truncate(2.34567,2)"
   ]
  },
  {
   "cell_type": "code",
   "execution_count": 58,
   "metadata": {},
   "outputs": [],
   "source": [
    "data = list(csv.reader(open('/Users/ynh3/Documents/estR/trace.2q50docs', 'rb'), delimiter='\\t'))"
   ]
  },
  {
   "cell_type": "code",
   "execution_count": 59,
   "metadata": {},
   "outputs": [
    {
     "data": {
      "text/plain": [
       "['IN7a 51 1  68 39 38 12 6']"
      ]
     },
     "execution_count": 59,
     "metadata": {},
     "output_type": "execute_result"
    }
   ],
   "source": [
    "data[3]"
   ]
  },
  {
   "cell_type": "code",
   "execution_count": 78,
   "metadata": {},
   "outputs": [
    {
     "name": "stdout",
     "output_type": "stream",
     "text": [
      "word1\n"
     ]
    }
   ],
   "source": [
    "name = \"word1 word2 word3\"\n",
    "print name.split(\" \")[0]"
   ]
  },
  {
   "cell_type": "code",
   "execution_count": 131,
   "metadata": {},
   "outputs": [
    {
     "name": "stdout",
     "output_type": "stream",
     "text": [
      "     894 judged;     75 rel\n"
     ]
    }
   ],
   "source": [
    "name2 = \"51:      894 judged;     75 rel\"\n",
    "print name2.partition(' ')[2]"
   ]
  },
  {
   "cell_type": "code",
   "execution_count": 80,
   "metadata": {},
   "outputs": [
    {
     "name": "stdout",
     "output_type": "stream",
     "text": [
      "75\n"
     ]
    }
   ],
   "source": [
    "name3 = \"51:      894 judged;     75 rel\"\n",
    "name3 = name3.strip()\n",
    "print name3.split(' ')[12]"
   ]
  },
  {
   "cell_type": "code",
   "execution_count": 83,
   "metadata": {},
   "outputs": [],
   "source": [
    "str4 = \"A 51 IN7e  35 19 19 19 16\"\n",
    "system = str4.partition(' ')[0]"
   ]
  },
  {
   "cell_type": "code",
   "execution_count": 84,
   "metadata": {},
   "outputs": [
    {
     "data": {
      "text/plain": [
       "'A'"
      ]
     },
     "execution_count": 84,
     "metadata": {},
     "output_type": "execute_result"
    }
   ],
   "source": [
    "system"
   ]
  },
  {
   "cell_type": "code",
   "execution_count": null,
   "metadata": {},
   "outputs": [],
   "source": []
  }
 ],
 "metadata": {
  "kernelspec": {
   "display_name": "Python 3",
   "language": "python",
   "name": "python3"
  },
  "language_info": {
   "codemirror_mode": {
    "name": "ipython",
    "version": 3
   },
   "file_extension": ".py",
   "mimetype": "text/x-python",
   "name": "python",
   "nbconvert_exporter": "python",
   "pygments_lexer": "ipython3",
   "version": "3.6.1"
  }
 },
 "nbformat": 4,
 "nbformat_minor": 1
}
